{
  "nbformat": 4,
  "nbformat_minor": 0,
  "metadata": {
    "colab": {
      "name": "Copy of Copy of Copy of Covid_19_Classification_Based_on_Chest_X_Ray.ipynb",
      "provenance": [],
      "collapsed_sections": [],
      "include_colab_link": true
    },
    "kernelspec": {
      "display_name": "Python 3",
      "name": "python3"
    },
    "language_info": {
      "name": "python"
    },
    "accelerator": "GPU"
  },
  "cells": [
    {
      "cell_type": "markdown",
      "metadata": {
        "id": "view-in-github",
        "colab_type": "text"
      },
      "source": [
        "<a href=\"https://colab.research.google.com/github/prince90038/corona-prediction/blob/main/experiment1.ipynb\" target=\"_parent\"><img src=\"https://colab.research.google.com/assets/colab-badge.svg\" alt=\"Open In Colab\"/></a>"
      ]
    },
    {
      "cell_type": "markdown",
      "metadata": {
        "id": "193KtDl8g1vf"
      },
      "source": [
        "#Covid-19 Classification Based On Chest X-Ray#"
      ]
    },
    {
      "cell_type": "markdown",
      "metadata": {
        "id": "v5uGylXshHJj"
      },
      "source": [
        "Mount the Drive"
      ]
    },
    {
      "cell_type": "code",
      "metadata": {
        "colab": {
          "base_uri": "https://localhost:8080/"
        },
        "id": "nZbR6v2cU5L0",
        "outputId": "6a54a267-96e6-4d35-bfb1-1012f943ce23"
      },
      "source": [
        "from google.colab import drive\n",
        "drive.mount('/content/drive')"
      ],
      "execution_count": 1,
      "outputs": [
        {
          "output_type": "stream",
          "text": [
            "Mounted at /content/drive\n"
          ],
          "name": "stdout"
        }
      ]
    },
    {
      "cell_type": "markdown",
      "metadata": {
        "id": "vaRpAN04hMos"
      },
      "source": [
        "Unzip the Dataset File"
      ]
    },
    {
      "cell_type": "code",
      "metadata": {
        "colab": {
          "base_uri": "https://localhost:8080/"
        },
        "id": "HQfJ2hJfVJmX",
        "outputId": "db847f73-759c-4f56-b3b4-00a659d0d266"
      },
      "source": [
        "from zipfile import ZipFile\n",
        "file_name = \"/content/drive/MyDrive/COVID-19 Radiography Database.zip\"\n",
        "\n",
        "with ZipFile(file_name,'r') as zip:\n",
        "  zip.extractall()\n",
        "  print('Done')"
      ],
      "execution_count": 2,
      "outputs": [
        {
          "output_type": "stream",
          "text": [
            "Done\n"
          ],
          "name": "stdout"
        }
      ]
    },
    {
      "cell_type": "markdown",
      "metadata": {
        "id": "qCYLFhTPok2T"
      },
      "source": [
        "Importing the Libraries"
      ]
    },
    {
      "cell_type": "code",
      "metadata": {
        "id": "Nb4TzyL7oHrY"
      },
      "source": [
        "from keras.models import Sequential\n",
        "from keras.layers import Convolution2D\n",
        "from keras.layers import MaxPool2D\n",
        "from keras.layers import Flatten\n",
        "from keras.layers import Dense\n",
        "from keras.layers import Dropout\n",
        "from keras.layers import Activation\n",
        "from keras.preprocessing.image import ImageDataGenerator\n",
        "import time\n",
        "import matplotlib.pyplot as plt\n",
        "import numpy as np\n",
        "from keras.preprocessing import image\n",
        "import cv2\n",
        "import os\n",
        "import random\n",
        "import shutil\n",
        "from sklearn.metrics import confusion_matrix\n",
        "import seaborn as sns\n",
        "import itertools\n",
        "from sklearn.metrics import classification_report"
      ],
      "execution_count": 3,
      "outputs": []
    },
    {
      "cell_type": "markdown",
      "metadata": {
        "id": "7hCvo2RMkAm6"
      },
      "source": [
        "#Creating Custom Dataset#"
      ]
    },
    {
      "cell_type": "code",
      "metadata": {
        "id": "UUdLxqAqS8yo"
      },
      "source": [
        "class_names = ['normal', 'viral', 'covid']\n",
        "root_dir = 'COVID-19 Radiography Database'\n",
        "source_dirs = ['NORMAL', 'Viral Pneumonia', 'COVID-19']\n",
        "\n",
        "if os.path.isdir(os.path.join(root_dir, source_dirs[1])):\n",
        "    os.mkdir(os.path.join(root_dir, 'test'))\n",
        "    os.mkdir(os.path.join(root_dir, 'train'))\n",
        "    os.mkdir(os.path.join(root_dir,'validation'))\n",
        "\n",
        "    for i, d in enumerate(source_dirs):\n",
        "        os.rename(os.path.join(root_dir, d), os.path.join(root_dir, class_names[i]))\n",
        "\n",
        "    for c in class_names:\n",
        "        os.mkdir(os.path.join(root_dir, 'test', c))\n",
        "        os.mkdir(os.path.join(root_dir, 'validation', c))\n",
        "\n",
        "    for c in class_names:\n",
        "        images = [x for x in os.listdir(os.path.join(root_dir, c)) if x.lower().endswith('png')]\n",
        "        selected_images = random.sample(images, 315)\n",
        "        for image in selected_images:\n",
        "            source_path = os.path.join(root_dir, c, image)\n",
        "            target_path = os.path.join(root_dir, 'test', c, image)\n",
        "            shutil.move(source_path, target_path)\n",
        "    for c in class_names:\n",
        "        images = [x for x in os.listdir(os.path.join(root_dir, c)) if x.lower().endswith('png')]\n",
        "        selected_images = random.sample(images, 10)\n",
        "        for image in selected_images:\n",
        "            source_path = os.path.join(root_dir, c, image)\n",
        "            target_path = os.path.join(root_dir, 'validation', c, image)\n",
        "            shutil.move(source_path, target_path)     \n",
        "\n",
        "\n",
        "     \n",
        "    for c in class_names:\n",
        "        shutil.move(os.path.join(root_dir, c), os.path.join(root_dir, 'train'))"
      ],
      "execution_count": 4,
      "outputs": []
    },
    {
      "cell_type": "markdown",
      "metadata": {
        "id": "OB1avd9XhTYQ"
      },
      "source": [
        "#Data Pre-processing Phase#"
      ]
    },
    {
      "cell_type": "code",
      "metadata": {
        "colab": {
          "base_uri": "https://localhost:8080/"
        },
        "id": "nFf0Mm36VSiB",
        "outputId": "30ad7fa6-ca60-4551-e071-4cf8c95dcefe"
      },
      "source": [
        "TrainingImagePath='/content/COVID-19 Radiography Database/train'\n",
        "TestImagePath='/content/COVID-19 Radiography Database/test'\n",
        "batch_size = 32\n",
        "\n",
        "train_datagen = ImageDataGenerator(\n",
        "        rescale=1./255,\n",
        "        shear_range = 0.1,\n",
        "        zoom_range = 0.1,\n",
        "        horizontal_flip = True)\n",
        "\n",
        "test_datagen = ImageDataGenerator(rescale=1./255)\n",
        "\n",
        "training_set = train_datagen.flow_from_directory(\n",
        "        TrainingImagePath,\n",
        "        target_size = (256, 256),\n",
        "        batch_size = batch_size,\n",
        "        class_mode = 'categorical')\n",
        "\n",
        "test_set = test_datagen.flow_from_directory(\n",
        "        TestImagePath,\n",
        "        target_size = (256, 256),\n",
        "        batch_size = batch_size,\n",
        "        shuffle = False,\n",
        "        class_mode = 'categorical')\n",
        "\n",
        "test_set.class_indices"
      ],
      "execution_count": 5,
      "outputs": [
        {
          "output_type": "stream",
          "text": [
            "Found 2854 images belonging to 3 classes.\n",
            "Found 945 images belonging to 3 classes.\n"
          ],
          "name": "stdout"
        },
        {
          "output_type": "execute_result",
          "data": {
            "text/plain": [
              "{'covid': 0, 'normal': 1, 'viral': 2}"
            ]
          },
          "metadata": {
            "tags": []
          },
          "execution_count": 5
        }
      ]
    },
    {
      "cell_type": "code",
      "metadata": {
        "colab": {
          "base_uri": "https://localhost:8080/"
        },
        "id": "lj1c0vNHVW4N",
        "outputId": "89e584ca-013e-4573-dd78-4d5f83d01e69"
      },
      "source": [
        "TrainClasses = training_set.class_indices\n",
        "\n",
        "labels = {}\n",
        "for faceName, faceValue in TrainClasses.items():\n",
        "    labels[faceValue] = faceName\n",
        "\n",
        "print('Mapping of Dataset\\n')\n",
        "for key, value in labels.items():\n",
        "    print(str(key) + \" --> \" + value)\n",
        "\n",
        "OutputNeurons = len(labels)\n",
        "print('\\nRequired Output Neurons:{}'.format(OutputNeurons))"
      ],
      "execution_count": 6,
      "outputs": [
        {
          "output_type": "stream",
          "text": [
            "Mapping of Dataset\n",
            "\n",
            "0 --> covid\n",
            "1 --> normal\n",
            "2 --> viral\n",
            "\n",
            "Required Output Neurons:3\n"
          ],
          "name": "stdout"
        }
      ]
    },
    {
      "cell_type": "markdown",
      "metadata": {
        "id": "Q_N5GSM6o2SU"
      },
      "source": [
        "#CNN Model#"
      ]
    },
    {
      "cell_type": "markdown",
      "metadata": {
        "id": "ooMBZtgPo7qi"
      },
      "source": [
        "Initializing the Convolutional Neural Network"
      ]
    },
    {
      "cell_type": "code",
      "metadata": {
        "id": "LCZvn1RaVaA7"
      },
      "source": [
        "cnn = Sequential()"
      ],
      "execution_count": 7,
      "outputs": []
    },
    {
      "cell_type": "markdown",
      "metadata": {
        "id": "gg2exDTDpXPB"
      },
      "source": [
        "#Step:1#\n",
        "\n",
        "#Convolution#\n"
      ]
    },
    {
      "cell_type": "markdown",
      "metadata": {
        "id": "b8ekzoPGpvpZ"
      },
      "source": [
        "Adding the first layer of CNN"
      ]
    },
    {
      "cell_type": "code",
      "metadata": {
        "id": "ddnDMcpSpFT_"
      },
      "source": [
        "cnn.add(Convolution2D(32, kernel_size=(5, 5), strides=(1, 1), input_shape=(256,256,3), activation='relu'))"
      ],
      "execution_count": 8,
      "outputs": []
    },
    {
      "cell_type": "markdown",
      "metadata": {
        "id": "GSKRznDZp9Kn"
      },
      "source": [
        "#Step:2#\n",
        "#MAX Pooling#"
      ]
    },
    {
      "cell_type": "code",
      "metadata": {
        "id": "5iaTkxlmp2Z5"
      },
      "source": [
        "cnn.add(MaxPool2D(pool_size=(2,2)))"
      ],
      "execution_count": 9,
      "outputs": []
    },
    {
      "cell_type": "markdown",
      "metadata": {
        "id": "0izaGSXuqMTs"
      },
      "source": [
        "#Addtional Layer of Convulution# "
      ]
    },
    {
      "cell_type": "code",
      "metadata": {
        "id": "2mLJkkrLqFpz"
      },
      "source": [
        "cnn.add(Convolution2D(64, kernel_size=(5, 5), strides=(1, 1), activation='relu'))\n",
        "cnn.add(MaxPool2D(pool_size=(2,2)))"
      ],
      "execution_count": 10,
      "outputs": []
    },
    {
      "cell_type": "code",
      "metadata": {
        "id": "erJLqvsm8jew"
      },
      "source": [
        "cnn.add(Convolution2D(128, kernel_size=(5, 5), strides=(1, 1), activation='relu'))\n",
        "cnn.add(MaxPool2D(pool_size=(2,2)))"
      ],
      "execution_count": 11,
      "outputs": []
    },
    {
      "cell_type": "code",
      "metadata": {
        "id": "tCY-IU9I9GCk"
      },
      "source": [
        "cnn.add(Convolution2D(256, kernel_size=(5, 5), strides=(1, 1), activation='relu'))\n",
        "cnn.add(MaxPool2D(pool_size=(2,2)))"
      ],
      "execution_count": 12,
      "outputs": []
    },
    {
      "cell_type": "markdown",
      "metadata": {
        "id": "iedb3H7gqgwN"
      },
      "source": [
        "#Step:3# \n",
        "#Flattening#"
      ]
    },
    {
      "cell_type": "code",
      "metadata": {
        "id": "EASwlB35qfta"
      },
      "source": [
        "cnn.add(Flatten())"
      ],
      "execution_count": 13,
      "outputs": []
    },
    {
      "cell_type": "markdown",
      "metadata": {
        "id": "wW_fzx_9qwu0"
      },
      "source": [
        "#Step:4#\n",
        "#Fully Connected Neural Network#"
      ]
    },
    {
      "cell_type": "code",
      "metadata": {
        "id": "ykbld2mOqvqt"
      },
      "source": [
        "cnn.add(Dense(150, activation='relu'))\n",
        "cnn.add(Dropout(0.5))\n",
        "cnn.add(Dense(75, activation='relu'))\n",
        "cnn.add(Dropout(0.5))\n",
        "cnn.add(Dense(OutputNeurons, activation='softmax'))"
      ],
      "execution_count": 14,
      "outputs": []
    },
    {
      "cell_type": "markdown",
      "metadata": {
        "id": "L9OAwWGurEh9"
      },
      "source": [
        "#Compiling the CNN#"
      ]
    },
    {
      "cell_type": "code",
      "metadata": {
        "id": "jMVVlNdDrDmg"
      },
      "source": [
        "cnn.compile(loss='categorical_crossentropy', optimizer = 'adam', metrics=[\"accuracy\"])"
      ],
      "execution_count": 15,
      "outputs": []
    },
    {
      "cell_type": "markdown",
      "metadata": {
        "id": "hip8TsoCrfT3"
      },
      "source": [
        "#Start Training the Model#"
      ]
    },
    {
      "cell_type": "code",
      "metadata": {
        "colab": {
          "base_uri": "https://localhost:8080/"
        },
        "id": "40DUfT0erW64",
        "outputId": "a50bc0e6-88d2-416f-9bf0-ea9fba11b8dd"
      },
      "source": [
        "StartTime=time.time()\n",
        "classifier = cnn.fit(\n",
        "                    training_set,\n",
        "                    # steps_per_epoch=160,\n",
        "                    epochs=50,\n",
        "                    validation_data=test_set,\n",
        "                    validation_steps=(765//batch_size))\n",
        "\n",
        "EndTime = time.time()\n",
        "print()\n",
        "print(\"*\"*137)\n",
        "print('Total Time Taken to Train the Model: ', round((EndTime-StartTime)/60), 'Minutes')"
      ],
      "execution_count": 16,
      "outputs": [
        {
          "output_type": "stream",
          "text": [
            "Epoch 1/50\n",
            "90/90 [==============================] - 119s 821ms/step - loss: 1.0986 - accuracy: 0.3660 - val_loss: 0.5552 - val_accuracy: 0.8505\n",
            "Epoch 2/50\n",
            "90/90 [==============================] - 75s 832ms/step - loss: 0.6559 - accuracy: 0.7207 - val_loss: 0.3721 - val_accuracy: 0.8777\n",
            "Epoch 3/50\n",
            "90/90 [==============================] - 75s 830ms/step - loss: 0.4778 - accuracy: 0.8101 - val_loss: 0.2881 - val_accuracy: 0.9090\n",
            "Epoch 4/50\n",
            "90/90 [==============================] - 73s 813ms/step - loss: 0.4063 - accuracy: 0.8569 - val_loss: 0.2371 - val_accuracy: 0.9280\n",
            "Epoch 5/50\n",
            "90/90 [==============================] - 73s 813ms/step - loss: 0.3676 - accuracy: 0.8740 - val_loss: 0.2280 - val_accuracy: 0.9266\n",
            "Epoch 6/50\n",
            "90/90 [==============================] - 73s 811ms/step - loss: 0.3288 - accuracy: 0.8807 - val_loss: 0.1477 - val_accuracy: 0.9552\n",
            "Epoch 7/50\n",
            "90/90 [==============================] - 73s 809ms/step - loss: 0.3509 - accuracy: 0.8706 - val_loss: 0.1802 - val_accuracy: 0.9375\n",
            "Epoch 8/50\n",
            "90/90 [==============================] - 73s 814ms/step - loss: 0.2985 - accuracy: 0.8948 - val_loss: 0.1491 - val_accuracy: 0.9443\n",
            "Epoch 9/50\n",
            "90/90 [==============================] - 73s 806ms/step - loss: 0.2699 - accuracy: 0.9166 - val_loss: 0.1285 - val_accuracy: 0.9565\n",
            "Epoch 10/50\n",
            "90/90 [==============================] - 73s 810ms/step - loss: 0.2513 - accuracy: 0.9119 - val_loss: 0.1357 - val_accuracy: 0.9552\n",
            "Epoch 11/50\n",
            "90/90 [==============================] - 73s 808ms/step - loss: 0.2686 - accuracy: 0.9081 - val_loss: 0.1404 - val_accuracy: 0.9497\n",
            "Epoch 12/50\n",
            "90/90 [==============================] - 72s 805ms/step - loss: 0.2127 - accuracy: 0.9308 - val_loss: 0.1215 - val_accuracy: 0.9538\n",
            "Epoch 13/50\n",
            "90/90 [==============================] - 73s 805ms/step - loss: 0.2058 - accuracy: 0.9378 - val_loss: 0.1564 - val_accuracy: 0.9538\n",
            "Epoch 14/50\n",
            "90/90 [==============================] - 73s 808ms/step - loss: 0.2107 - accuracy: 0.9304 - val_loss: 0.2092 - val_accuracy: 0.9239\n",
            "Epoch 15/50\n",
            "90/90 [==============================] - 73s 807ms/step - loss: 0.2428 - accuracy: 0.9166 - val_loss: 0.1386 - val_accuracy: 0.9606\n",
            "Epoch 16/50\n",
            "90/90 [==============================] - 73s 812ms/step - loss: 0.2153 - accuracy: 0.9252 - val_loss: 0.1240 - val_accuracy: 0.9552\n",
            "Epoch 17/50\n",
            "90/90 [==============================] - 73s 811ms/step - loss: 0.1768 - accuracy: 0.9439 - val_loss: 0.1528 - val_accuracy: 0.9470\n",
            "Epoch 18/50\n",
            "90/90 [==============================] - 73s 807ms/step - loss: 0.1540 - accuracy: 0.9458 - val_loss: 0.1042 - val_accuracy: 0.9647\n",
            "Epoch 19/50\n",
            "90/90 [==============================] - 72s 805ms/step - loss: 0.1360 - accuracy: 0.9518 - val_loss: 0.1092 - val_accuracy: 0.9688\n",
            "Epoch 20/50\n",
            "90/90 [==============================] - 72s 800ms/step - loss: 0.1686 - accuracy: 0.9423 - val_loss: 0.1284 - val_accuracy: 0.9592\n",
            "Epoch 21/50\n",
            "90/90 [==============================] - 72s 800ms/step - loss: 0.1558 - accuracy: 0.9479 - val_loss: 0.1180 - val_accuracy: 0.9592\n",
            "Epoch 22/50\n",
            "90/90 [==============================] - 72s 802ms/step - loss: 0.1669 - accuracy: 0.9471 - val_loss: 0.1293 - val_accuracy: 0.9552\n",
            "Epoch 23/50\n",
            "90/90 [==============================] - 72s 800ms/step - loss: 0.1572 - accuracy: 0.9489 - val_loss: 0.1084 - val_accuracy: 0.9620\n",
            "Epoch 24/50\n",
            "90/90 [==============================] - 72s 801ms/step - loss: 0.1421 - accuracy: 0.9505 - val_loss: 0.0909 - val_accuracy: 0.9728\n",
            "Epoch 25/50\n",
            "90/90 [==============================] - 72s 795ms/step - loss: 0.1566 - accuracy: 0.9486 - val_loss: 0.1102 - val_accuracy: 0.9674\n",
            "Epoch 26/50\n",
            "90/90 [==============================] - 72s 795ms/step - loss: 0.1474 - accuracy: 0.9505 - val_loss: 0.1396 - val_accuracy: 0.9592\n",
            "Epoch 27/50\n",
            "90/90 [==============================] - 72s 799ms/step - loss: 0.1598 - accuracy: 0.9425 - val_loss: 0.1175 - val_accuracy: 0.9606\n",
            "Epoch 28/50\n",
            "90/90 [==============================] - 72s 801ms/step - loss: 0.1562 - accuracy: 0.9492 - val_loss: 0.1087 - val_accuracy: 0.9674\n",
            "Epoch 29/50\n",
            "90/90 [==============================] - 72s 799ms/step - loss: 0.1622 - accuracy: 0.9503 - val_loss: 0.1229 - val_accuracy: 0.9579\n",
            "Epoch 30/50\n",
            "90/90 [==============================] - 72s 797ms/step - loss: 0.1213 - accuracy: 0.9599 - val_loss: 0.1040 - val_accuracy: 0.9647\n",
            "Epoch 31/50\n",
            "90/90 [==============================] - 72s 801ms/step - loss: 0.1394 - accuracy: 0.9404 - val_loss: 0.0902 - val_accuracy: 0.9728\n",
            "Epoch 32/50\n",
            "90/90 [==============================] - 72s 798ms/step - loss: 0.1382 - accuracy: 0.9499 - val_loss: 0.0956 - val_accuracy: 0.9728\n",
            "Epoch 33/50\n",
            "90/90 [==============================] - 72s 797ms/step - loss: 0.1180 - accuracy: 0.9599 - val_loss: 0.2105 - val_accuracy: 0.9334\n",
            "Epoch 34/50\n",
            "90/90 [==============================] - 71s 793ms/step - loss: 0.1558 - accuracy: 0.9429 - val_loss: 0.0851 - val_accuracy: 0.9769\n",
            "Epoch 35/50\n",
            "90/90 [==============================] - 71s 793ms/step - loss: 0.1259 - accuracy: 0.9597 - val_loss: 0.0983 - val_accuracy: 0.9660\n",
            "Epoch 36/50\n",
            "90/90 [==============================] - 71s 793ms/step - loss: 0.1178 - accuracy: 0.9644 - val_loss: 0.0952 - val_accuracy: 0.9728\n",
            "Epoch 37/50\n",
            "90/90 [==============================] - 71s 792ms/step - loss: 0.1121 - accuracy: 0.9677 - val_loss: 0.0856 - val_accuracy: 0.9742\n",
            "Epoch 38/50\n",
            "90/90 [==============================] - 71s 792ms/step - loss: 0.0924 - accuracy: 0.9682 - val_loss: 0.1010 - val_accuracy: 0.9688\n",
            "Epoch 39/50\n",
            "90/90 [==============================] - 71s 792ms/step - loss: 0.1019 - accuracy: 0.9638 - val_loss: 0.1690 - val_accuracy: 0.9538\n",
            "Epoch 40/50\n",
            "90/90 [==============================] - 71s 794ms/step - loss: 0.1135 - accuracy: 0.9580 - val_loss: 0.0805 - val_accuracy: 0.9823\n",
            "Epoch 41/50\n",
            "90/90 [==============================] - 72s 795ms/step - loss: 0.1136 - accuracy: 0.9676 - val_loss: 0.0952 - val_accuracy: 0.9769\n",
            "Epoch 42/50\n",
            "90/90 [==============================] - 72s 796ms/step - loss: 0.1062 - accuracy: 0.9650 - val_loss: 0.1124 - val_accuracy: 0.9742\n",
            "Epoch 43/50\n",
            "90/90 [==============================] - 72s 794ms/step - loss: 0.1389 - accuracy: 0.9546 - val_loss: 0.0967 - val_accuracy: 0.9783\n",
            "Epoch 44/50\n",
            "90/90 [==============================] - 72s 796ms/step - loss: 0.1025 - accuracy: 0.9753 - val_loss: 0.1164 - val_accuracy: 0.9715\n",
            "Epoch 45/50\n",
            "90/90 [==============================] - 72s 795ms/step - loss: 0.1182 - accuracy: 0.9580 - val_loss: 0.1070 - val_accuracy: 0.9728\n",
            "Epoch 46/50\n",
            "90/90 [==============================] - 72s 794ms/step - loss: 0.0830 - accuracy: 0.9710 - val_loss: 0.0984 - val_accuracy: 0.9810\n",
            "Epoch 47/50\n",
            "90/90 [==============================] - 72s 794ms/step - loss: 0.0945 - accuracy: 0.9688 - val_loss: 0.1293 - val_accuracy: 0.9579\n",
            "Epoch 48/50\n",
            "90/90 [==============================] - 71s 793ms/step - loss: 0.1170 - accuracy: 0.9617 - val_loss: 0.1294 - val_accuracy: 0.9674\n",
            "Epoch 49/50\n",
            "90/90 [==============================] - 72s 795ms/step - loss: 0.0953 - accuracy: 0.9743 - val_loss: 0.1024 - val_accuracy: 0.9715\n",
            "Epoch 50/50\n",
            "90/90 [==============================] - 72s 795ms/step - loss: 0.0671 - accuracy: 0.9767 - val_loss: 0.4162 - val_accuracy: 0.8641\n",
            "\n",
            "*****************************************************************************************************************************************\n",
            "Total Time Taken to Train the Model:  61 Minutes\n"
          ],
          "name": "stdout"
        }
      ]
    },
    {
      "cell_type": "markdown",
      "metadata": {
        "id": "ypOVB9swhsW_"
      },
      "source": [
        "Confussion Matrix"
      ]
    },
    {
      "cell_type": "markdown",
      "metadata": {
        "id": "b-bE0cqfr8hn"
      },
      "source": [
        "#Training and Validation Accuracy Graph#"
      ]
    },
    {
      "cell_type": "code",
      "metadata": {
        "colab": {
          "base_uri": "https://localhost:8080/",
          "height": 312
        },
        "id": "kDu7KW5Ext3v",
        "outputId": "16ababe8-ca43-4fa8-9b39-b77be9241436"
      },
      "source": [
        "acc = classifier.history['accuracy']\n",
        "val_acc = classifier.history['val_accuracy']\n",
        "loss = classifier.history['loss']\n",
        "val_loss = classifier.history['val_loss']\n",
        "epochs = range(len(acc))\n",
        "plt.plot(epochs, acc, 'r', label='Training acc')\n",
        "plt.plot(epochs, val_acc, 'b', label='Validation acc')\n",
        "plt.title('Training and validation accuracy')\n",
        "plt.ylabel('accuracy') \n",
        "plt.xlabel('epoch')\n",
        "plt.legend()\n",
        "plt.plot()"
      ],
      "execution_count": 17,
      "outputs": [
        {
          "output_type": "execute_result",
          "data": {
            "text/plain": [
              "[]"
            ]
          },
          "metadata": {
            "tags": []
          },
          "execution_count": 17
        },
        {
          "output_type": "display_data",
          "data": {
            "image/png": "[encoded data removed]",
            "text/plain": [
              "<Figure size 432x288 with 1 Axes>"
            ]
          },
          "metadata": {
            "tags": [],
            "needs_background": "light"
          }
        }
      ]
    },
    {
      "cell_type": "markdown",
      "metadata": {
        "id": "LhGqw1YmskEn"
      },
      "source": [
        "#Training and Validation Loss Graph#"
      ]
    },
    {
      "cell_type": "code",
      "metadata": {
        "colab": {
          "base_uri": "https://localhost:8080/",
          "height": 295
        },
        "id": "yS-vkMiXsRGj",
        "outputId": "3c372602-0c5d-4a13-a17a-fa224bc0eb1c"
      },
      "source": [
        "acc = classifier.history['accuracy']\n",
        "val_acc = classifier.history['val_accuracy']\n",
        "loss = classifier.history['loss']\n",
        "val_loss = classifier.history['val_loss']\n",
        "epochs = range(len(acc))\n",
        "\n",
        "plt.plot(epochs, loss, 'r', label='Training loss')\n",
        "plt.plot(epochs, val_loss, 'b', label='Validation loss')\n",
        "plt.title('Training and validation loss')\n",
        "plt.ylabel('loss') \n",
        "plt.xlabel('epoch')\n",
        "plt.legend()\n",
        "plt.show()\n"
      ],
      "execution_count": 18,
      "outputs": [
        {
          "output_type": "display_data",
          "data": {
            "image/png": "[encoded data removed]",
            "text/plain": [
              "<Figure size 432x288 with 1 Axes>"
            ]
          },
          "metadata": {
            "tags": [],
            "needs_background": "light"
          }
        }
      ]
    },
    {
      "cell_type": "markdown",
      "metadata": {
        "id": "kVYTgkDbh2N5"
      },
      "source": [
        "#Final Prediction#"
      ]
    },
    {
      "cell_type": "code",
      "metadata": {
        "colab": {
          "base_uri": "https://localhost:8080/",
          "height": 810
        },
        "id": "4srLOwugVc21",
        "outputId": "eec2f3bc-ff41-439c-8759-5eb8f688c360"
      },
      "source": [
        "fig = plt.figure(figsize=(18, 10))\n",
        "\n",
        "rows = 1\n",
        "columns = 3\n",
        "\n",
        "fig.add_subplot(rows, columns, 1)\n",
        "ImagePath = '/content/COVID-19 Radiography Database/validation/covid/COVID-19 (1056).png'\n",
        "Image = cv2.imread(ImagePath)\n",
        "test_image = image.load_img(ImagePath,target_size=(256, 256))\n",
        "test_image = image.img_to_array(test_image)\n",
        "test_image = np.expand_dims(test_image,axis=0)\n",
        "result = cnn.predict(test_image)\n",
        "\n",
        "plt.imshow(Image)\n",
        "col = 'green' if labels[0] == labels[np.argmax(result)] else 'red'\n",
        "plt.xlabel(labels[0])\n",
        "plt.ylabel(labels[np.argmax(result)], color=col)\n",
        "\n",
        "fig.add_subplot(rows, columns, 2)\n",
        "\n",
        "ImagePath = '/content/COVID-19 Radiography Database/validation/normal/NORMAL (291).png'\n",
        "test_image = image.load_img(ImagePath,target_size=(256, 256))\n",
        "test_image = image.img_to_array(test_image)\n",
        "test_image = np.expand_dims(test_image,axis=0)\n",
        "result = cnn.predict(test_image)\n",
        "Image = cv2.imread(ImagePath)\n",
        "\n",
        "plt.imshow(Image)\n",
        "col = 'green' if labels[1] == labels[np.argmax(result)] else 'red'\n",
        "plt.xlabel(labels[1])\n",
        "plt.ylabel(labels[np.argmax(result)], color=col)\n",
        "\n",
        "fig.add_subplot(rows, columns, 3)\n",
        "ImagePath = '/content/COVID-19 Radiography Database/validation/viral/Viral Pneumonia (104).png'\n",
        "Image = cv2.imread(ImagePath)\n",
        "test_image = image.load_img(ImagePath,target_size=(256, 256))\n",
        "test_image = image.img_to_array(test_image)\n",
        "test_image = np.expand_dims(test_image,axis=0)\n",
        "result = cnn.predict(test_image)\n",
        "\n",
        "plt.imshow(Image)\n",
        "col = 'green' if labels[2] == labels[np.argmax(result)] else 'red'\n",
        "plt.xlabel(labels[2])\n",
        "plt.ylabel(labels[np.argmax(result)], color=col)"
      ],
      "execution_count": 19,
      "outputs": [
        {
          "output_type": "error",
          "ename": "AttributeError",
          "evalue": "ignored",
          "traceback": [
            "\u001b[0;31m---------------------------------------------------------------------------\u001b[0m",
            "\u001b[0;31mAttributeError\u001b[0m                            Traceback (most recent call last)",
            "\u001b[0;32m<ipython-input-19-1f4960a4d348>\u001b[0m in \u001b[0;36m<module>\u001b[0;34m()\u001b[0m\n\u001b[1;32m      7\u001b[0m \u001b[0mImagePath\u001b[0m \u001b[0;34m=\u001b[0m \u001b[0;34m'/content/COVID-19 Radiography Database/validation/covid/COVID-19 (1056).png'\u001b[0m\u001b[0;34m\u001b[0m\u001b[0;34m\u001b[0m\u001b[0m\n\u001b[1;32m      8\u001b[0m \u001b[0mImage\u001b[0m \u001b[0;34m=\u001b[0m \u001b[0mcv2\u001b[0m\u001b[0;34m.\u001b[0m\u001b[0mimread\u001b[0m\u001b[0;34m(\u001b[0m\u001b[0mImagePath\u001b[0m\u001b[0;34m)\u001b[0m\u001b[0;34m\u001b[0m\u001b[0;34m\u001b[0m\u001b[0m\n\u001b[0;32m----> 9\u001b[0;31m \u001b[0mtest_image\u001b[0m \u001b[0;34m=\u001b[0m \u001b[0mimage\u001b[0m\u001b[0;34m.\u001b[0m\u001b[0mload_img\u001b[0m\u001b[0;34m(\u001b[0m\u001b[0mImagePath\u001b[0m\u001b[0;34m,\u001b[0m\u001b[0mtarget_size\u001b[0m\u001b[0;34m=\u001b[0m\u001b[0;34m(\u001b[0m\u001b[0;36m256\u001b[0m\u001b[0;34m,\u001b[0m \u001b[0;36m256\u001b[0m\u001b[0;34m)\u001b[0m\u001b[0;34m)\u001b[0m\u001b[0;34m\u001b[0m\u001b[0;34m\u001b[0m\u001b[0m\n\u001b[0m\u001b[1;32m     10\u001b[0m \u001b[0mtest_image\u001b[0m \u001b[0;34m=\u001b[0m \u001b[0mimage\u001b[0m\u001b[0;34m.\u001b[0m\u001b[0mimg_to_array\u001b[0m\u001b[0;34m(\u001b[0m\u001b[0mtest_image\u001b[0m\u001b[0;34m)\u001b[0m\u001b[0;34m\u001b[0m\u001b[0;34m\u001b[0m\u001b[0m\n\u001b[1;32m     11\u001b[0m \u001b[0mtest_image\u001b[0m \u001b[0;34m=\u001b[0m \u001b[0mnp\u001b[0m\u001b[0;34m.\u001b[0m\u001b[0mexpand_dims\u001b[0m\u001b[0;34m(\u001b[0m\u001b[0mtest_image\u001b[0m\u001b[0;34m,\u001b[0m\u001b[0maxis\u001b[0m\u001b[0;34m=\u001b[0m\u001b[0;36m0\u001b[0m\u001b[0;34m)\u001b[0m\u001b[0;34m\u001b[0m\u001b[0;34m\u001b[0m\u001b[0m\n",
            "\u001b[0;31mAttributeError\u001b[0m: 'str' object has no attribute 'load_img'"
          ]
        },
        {
          "output_type": "display_data",
          "data": {
            "image/png": "[encoded data removed]",
            "text/plain": [
              "<Figure size 1296x720 with 1 Axes>"
            ]
          },
          "metadata": {
            "tags": [],
            "needs_background": "light"
          }
        }
      ]
    },
    {
      "cell_type": "markdown",
      "metadata": {
        "id": "6rAbxVEmi6P_"
      },
      "source": [
        "##Confusion Matrix##"
      ]
    },
    {
      "cell_type": "code",
      "metadata": {
        "id": "_SEaf0o0NNb4"
      },
      "source": [
        "def plot_confusion_matrix(cm, classes, normalize = True, title = 'Confusion matrix', cmap = plt.cm.Reds):\n",
        "    plt.figure(figsize = (10,6))\n",
        "    plt.imshow(cm, interpolation = 'nearest', cmap = cmap)\n",
        "    plt.title(title)\n",
        "    plt.colorbar()\n",
        "\n",
        "    tick_marks = np.arange(len(classes))\n",
        "    plt.xticks(tick_marks, classes, rotation = 45, fontsize = 10)\n",
        "    plt.yticks(tick_marks, classes, fontsize = 10)\n",
        "\n",
        "    if normalize:\n",
        "        cm = cm.astype('float') / cm.sum(axis = 1)[:, np.newaxis]\n",
        "        cm = np.around(cm, decimals = 2)\n",
        "        cm[np.isnan(cm)] = 0.0\n",
        "        print(\"Normalized confusion matrix\")\n",
        "    else:\n",
        "        print('Confusion matrix, without normalization')\n",
        "\n",
        "    thresh = cm.max() / 2.\n",
        "    for i, j in itertools.product(range(cm.shape[0]), range(cm.shape[1])):\n",
        "        plt.text(j, i, cm[i, j],\n",
        "                 horizontalalignment = \"center\",\n",
        "                 color=\"white\" if cm[i, j] > thresh else \"black\")\n",
        "\n",
        "    plt.tight_layout()\n",
        "    plt.ylabel('True Label', fontsize = 13)\n",
        "    plt.xlabel('Predicted Label', fontsize = 13)"
      ],
      "execution_count": 20,
      "outputs": []
    },
    {
      "cell_type": "code",
      "metadata": {
        "id": "1lS33_I2NQQF"
      },
      "source": [
        "target_names = ['covid', 'normal', 'viral']\n",
        "\n",
        "Y_pred = cnn.predict(test_set)\n",
        "y_pred = np.argmax(Y_pred, axis=1)"
      ],
      "execution_count": 21,
      "outputs": []
    },
    {
      "cell_type": "code",
      "metadata": {
        "colab": {
          "base_uri": "https://localhost:8080/",
          "height": 492
        },
        "id": "tIj7Rg6stbtf",
        "outputId": "822ecc98-d220-4414-8c5f-1ab57ec0d014"
      },
      "source": [
        "print('Confusion Matrix')\n",
        "cm = confusion_matrix(test_set.classes, y_pred)\n",
        "plot_confusion_matrix(cm, target_names, title = 'Confusion Matrix')"
      ],
      "execution_count": 22,
      "outputs": [
        {
          "output_type": "stream",
          "text": [
            "Confusion Matrix\n",
            "Normalized confusion matrix\n"
          ],
          "name": "stdout"
        },
        {
          "output_type": "display_data",
          "data": {
            "image/png": "[encoded data removed]",
            "text/plain": [
              "<Figure size 720x432 with 2 Axes>"
            ]
          },
          "metadata": {
            "tags": [],
            "needs_background": "light"
          }
        }
      ]
    },
    {
      "cell_type": "code",
      "metadata": {
        "colab": {
          "base_uri": "https://localhost:8080/"
        },
        "id": "-k8K6NpNNUPZ",
        "outputId": "63e68ba9-2451-4311-9f33-db6e341ac70c"
      },
      "source": [
        "print('                      Classification Report')\n",
        "print()\n",
        "print(classification_report(test_set.classes, y_pred, target_names = target_names))"
      ],
      "execution_count": 23,
      "outputs": [
        {
          "output_type": "stream",
          "text": [
            "                      Classification Report\n",
            "\n",
            "              precision    recall  f1-score   support\n",
            "\n",
            "       covid       0.84      0.99      0.91       315\n",
            "      normal       0.93      0.74      0.83       315\n",
            "       viral       0.84      0.87      0.86       315\n",
            "\n",
            "    accuracy                           0.87       945\n",
            "   macro avg       0.87      0.87      0.86       945\n",
            "weighted avg       0.87      0.87      0.86       945\n",
            "\n"
          ],
          "name": "stdout"
        }
      ]
    }
  ]
}